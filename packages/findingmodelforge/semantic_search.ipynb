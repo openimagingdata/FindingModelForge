{
 "cells": [
  {
   "cell_type": "code",
   "execution_count": 7,
   "metadata": {},
   "outputs": [],
   "source": [
    "from findingmodelforge.config import settings\n",
    "import lancedb\n",
    "from lancedb.pydantic import LanceModel, Vector\n",
    "from lancedb.embeddings import get_registry, EmbeddingFunctionRegistry, OpenAIEmbeddings"
   ]
  },
  {
   "cell_type": "code",
   "execution_count": 2,
   "metadata": {},
   "outputs": [],
   "source": [
    "db_conn = lancedb.connect(settings.lancedb_uri)"
   ]
  },
  {
   "cell_type": "code",
   "execution_count": 18,
   "metadata": {},
   "outputs": [
    {
     "data": {
      "text/plain": [
       "['finding_models']"
      ]
     },
     "execution_count": 18,
     "metadata": {},
     "output_type": "execute_result"
    }
   ],
   "source": [
    "db_conn.table_names()"
   ]
  },
  {
   "cell_type": "code",
   "execution_count": 19,
   "metadata": {},
   "outputs": [],
   "source": [
    "db_conn.drop_table(\"finding_models\")"
   ]
  },
  {
   "cell_type": "code",
   "execution_count": 9,
   "metadata": {},
   "outputs": [],
   "source": [
    "def get_embedding_function() -> OpenAIEmbeddings:\n",
    "    registry: EmbeddingFunctionRegistry = get_registry()\n",
    "    embedding: OpenAIEmbeddings = registry.get(\"openai\")\n",
    "    model = embedding.create(\n",
    "        name=settings.lancedb_embeddings_model,\n",
    "        api_key=settings.openai_api_key.get_secret_value(),\n",
    "    )\n",
    "    return model\n",
    "\n",
    "\n",
    "embedding_func = get_embedding_function()"
   ]
  },
  {
   "cell_type": "code",
   "execution_count": 20,
   "metadata": {},
   "outputs": [],
   "source": [
    "class FindingModel(LanceModel):\n",
    "    model_id: str\n",
    "    name: str\n",
    "    tags: list[str]\n",
    "    text: str = embedding_func.SourceField()\n",
    "    vector: Vector(embedding_func.ndims()) = embedding_func.VectorField()  # type: ignore"
   ]
  },
  {
   "cell_type": "code",
   "execution_count": 21,
   "metadata": {},
   "outputs": [
    {
     "name": "stderr",
     "output_type": "stream",
     "text": [
      "[2024-12-27T22:31:26Z WARN  lance::dataset::write::insert] No existing dataset at /Users/talkasab/repos/FindingModelForge/packages/findingmodelforge/data/semanticdb/finding_models.lance, it will be created\n"
     ]
    }
   ],
   "source": [
    "fm_table = db_conn.create_table(\"finding_models\", schema=FindingModel, mode=\"overwrite\")"
   ]
  },
  {
   "cell_type": "code",
   "execution_count": null,
   "metadata": {},
   "outputs": [],
   "source": [
    "from findingmodelforge.models.finding_model_db import FindingModelDb\n",
    "from motor.motor_asyncio import AsyncIOMotorClient\n",
    "from beanie import init_beanie\n",
    "\n",
    "\n",
    "async def init_db() -> None:\n",
    "    client = AsyncIOMotorClient(settings.mongo_dsn.get_secret_value())\n",
    "    db = client.get_database(settings.database_name)\n",
    "    await init_beanie(db, document_models=[FindingModelDb])\n",
    "\n",
    "\n",
    "await init_db()"
   ]
  },
  {
   "cell_type": "code",
   "execution_count": 22,
   "metadata": {},
   "outputs": [
    {
     "data": {
      "text/plain": [
       "2"
      ]
     },
     "execution_count": 22,
     "metadata": {},
     "output_type": "execute_result"
    }
   ],
   "source": [
    "await FindingModelDb.count()"
   ]
  },
  {
   "cell_type": "code",
   "execution_count": 23,
   "metadata": {},
   "outputs": [
    {
     "data": {
      "text/plain": [
       "[{'model_id': '676d72d634391d71cadb112a',\n",
       "  'tags': ['knee', 'mri'],\n",
       "  'name': 'ACL tear',\n",
       "  'text': 'ACL tear\\n\\nDescription: An ACL tear refers to the rupture or complete tear of the anterior cruciate ligament, a critical stabilizing ligament in the knee, often resulting from sports-related injuries and characterized by knee instability, swelling, and pain.'},\n",
       " {'model_id': '676dc0fe02e361bc820f2e5e',\n",
       "  'tags': ['knee', 'mri'],\n",
       "  'name': 'medial meniscus tear',\n",
       "  'text': 'medial meniscus tear\\n\\nDescription: A medial meniscus tear is a common knee injury characterized by a disruption of the fibrous cartilage located on the inner side of the knee joint, often resulting from trauma or degeneration, which may lead to pain, swelling, and mechanical symptoms such as locking or limited range of motion.'}]"
      ]
     },
     "execution_count": 23,
     "metadata": {},
     "output_type": "execute_result"
    }
   ],
   "source": [
    "data_to_load = []\n",
    "async for fm in FindingModelDb.find():\n",
    "    data = {\n",
    "        \"model_id\": str(fm.id),\n",
    "        \"tags\": fm.tags,\n",
    "        \"name\": fm.name,\n",
    "        \"text\": f\"{fm.name}\\n\\nDescription: {fm.description}\",\n",
    "    }\n",
    "    data_to_load.append(data)\n",
    "data_to_load"
   ]
  },
  {
   "cell_type": "code",
   "execution_count": 12,
   "metadata": {},
   "outputs": [],
   "source": [
    "fm_table.add(data_to_load)"
   ]
  },
  {
   "cell_type": "code",
   "execution_count": null,
   "metadata": {},
   "outputs": [
    {
     "name": "stdout",
     "output_type": "stream",
     "text": [
      "ACL tear (model_id: 1) - 0.94\n",
      "medial meniscus tear (model_id: 2) - 1.53\n"
     ]
    }
   ],
   "source": [
    "results = words_table.search(\"acl\").to_list()\n",
    "for result in results:\n",
    "    print(f\"{result['text']} (model_id: {result['model_id']}) - {result['_distance']:0.2f}\")"
   ]
  },
  {
   "cell_type": "code",
   "execution_count": 14,
   "metadata": {},
   "outputs": [
    {
     "data": {
      "text/plain": [
       "dict_keys(['model_id', 'text', 'vector', '_distance'])"
      ]
     },
     "execution_count": 14,
     "metadata": {},
     "output_type": "execute_result"
    }
   ],
   "source": [
    "results[0].keys()"
   ]
  },
  {
   "cell_type": "code",
   "execution_count": null,
   "metadata": {},
   "outputs": [],
   "source": []
  }
 ],
 "metadata": {
  "kernelspec": {
   "display_name": ".venv",
   "language": "python",
   "name": "python3"
  },
  "language_info": {
   "codemirror_mode": {
    "name": "ipython",
    "version": 3
   },
   "file_extension": ".py",
   "mimetype": "text/x-python",
   "name": "python",
   "nbconvert_exporter": "python",
   "pygments_lexer": "ipython3",
   "version": "3.13.1"
  }
 },
 "nbformat": 4,
 "nbformat_minor": 2
}
