{
 "cells": [
  {
   "cell_type": "code",
   "execution_count": 1,
   "id": "dd8c3ba9",
   "metadata": {},
   "outputs": [],
   "source": [
    "from findingmodelforge.config import settings\n",
    "from findingmodelforge.models.finding_model import (\n",
    "    FindingModelFull,\n",
    "    ChoiceAttributeIded,\n",
    "    NumericAttributeIded,\n",
    "    ChoiceValue,\n",
    "    ChoiceAttribute,\n",
    "    AttributeType,\n",
    ")\n",
    "from findingmodelforge.finding_model_tools import add_ids_to_finding_model, create_finding_model_from_markdown\n",
    "from findingmodelforge.finding_info_tools import describe_finding_name"
   ]
  },
  {
   "cell_type": "code",
   "execution_count": 2,
   "id": "971ba4c5",
   "metadata": {},
   "outputs": [
    {
     "data": {
      "text/plain": [
       "True"
      ]
     },
     "execution_count": 2,
     "metadata": {},
     "output_type": "execute_result"
    }
   ],
   "source": [
    "settings.check_ready_for_openai()"
   ]
  },
  {
   "cell_type": "code",
   "execution_count": 3,
   "id": "e44ab038",
   "metadata": {},
   "outputs": [],
   "source": [
    "choice_att = ChoiceAttributeIded(\n",
    "    oifma_id=\"OIFMA_MGBR_000000\",\n",
    "    name=\"test_choice\",\n",
    "    type=AttributeType.CHOICE,\n",
    "    values=[\n",
    "        ChoiceValue(name=\"test value 1\"),\n",
    "        ChoiceValue(name=\"test value 2\"),\n",
    "    ],\n",
    ")"
   ]
  },
  {
   "cell_type": "code",
   "execution_count": 4,
   "id": "7a580f8d",
   "metadata": {},
   "outputs": [
    {
     "name": "stdout",
     "output_type": "stream",
     "text": [
      "{\n",
      "  \"oifma_id\": \"OIFMA_MGBR_000000\",\n",
      "  \"name\": \"test_choice\",\n",
      "  \"description\": null,\n",
      "  \"type\": \"choice\",\n",
      "  \"values\": [\n",
      "    {\n",
      "      \"name\": \"test value 1\",\n",
      "      \"description\": null\n",
      "    },\n",
      "    {\n",
      "      \"name\": \"test value 2\",\n",
      "      \"description\": null\n",
      "    }\n",
      "  ],\n",
      "  \"required\": false,\n",
      "  \"max_selected\": null\n",
      "}\n"
     ]
    }
   ],
   "source": [
    "print(choice_att.model_dump_json(indent=2))"
   ]
  },
  {
   "cell_type": "code",
   "execution_count": 5,
   "id": "40d4ae12",
   "metadata": {},
   "outputs": [],
   "source": [
    "numeric_att = NumericAttributeIded(\n",
    "    oifma_id=\"OIFMA_MGBR_000001\",\n",
    "    name=\"size\",\n",
    "    type=AttributeType.NUMERIC,\n",
    "    unit=\"cm\",\n",
    "    minimum=0,\n",
    ")"
   ]
  },
  {
   "cell_type": "code",
   "execution_count": 7,
   "id": "1aeec8b2",
   "metadata": {},
   "outputs": [
    {
     "name": "stdout",
     "output_type": "stream",
     "text": [
      "{\n",
      "  \"name\": \"size\",\n",
      "  \"description\": null,\n",
      "  \"type\": \"numeric\",\n",
      "  \"minimum\": 0,\n",
      "  \"maximum\": null,\n",
      "  \"unit\": \"cm\",\n",
      "  \"required\": false,\n",
      "  \"oifma_id\": \"OIFMA_MGBR_000001\"\n",
      "}\n"
     ]
    }
   ],
   "source": [
    "print(numeric_att.model_dump_json(indent=2))"
   ]
  },
  {
   "cell_type": "code",
   "execution_count": 8,
   "id": "fa8f3f6b",
   "metadata": {},
   "outputs": [
    {
     "name": "stderr",
     "output_type": "stream",
     "text": [
      "/var/folders/0g/5cpznq2j5yv0m_5n2nj0xc3w0000gn/T/ipykernel_45163/794258636.py:1: PydanticDeprecatedSince20: The `__fields__` attribute is deprecated, use `model_fields` instead. Deprecated in Pydantic V2.0 to be removed in V3.0. See Pydantic V2 Migration Guide at https://errors.pydantic.dev/2.10/migration/\n",
      "  NumericAttributeIded.__fields__\n"
     ]
    },
    {
     "data": {
      "text/plain": [
       "{'name': FieldInfo(annotation=str, required=True, description='Short, descriptive name of the attribute as an case-sensitive English phrase (preserving capitalization of acronyms).', metadata=[MinLen(min_length=3), MaxLen(max_length=100)]),\n",
       " 'description': FieldInfo(annotation=Union[str, NoneType], required=False, default=None, description='A one-to-two sentence description of the attribute that might be included in a medical textbook', metadata=[MinLen(min_length=5), MaxLen(max_length=500)]),\n",
       " 'type': FieldInfo(annotation=Literal[<AttributeType.NUMERIC: 'numeric'>], required=False, default=<AttributeType.NUMERIC: 'numeric'>),\n",
       " 'minimum': FieldInfo(annotation=Union[int, float, NoneType], required=False, default=None, description='The minimum value for the attribute.'),\n",
       " 'maximum': FieldInfo(annotation=Union[int, float, NoneType], required=False, default=None, description='The maximum value for the attribute.'),\n",
       " 'unit': FieldInfo(annotation=Union[str, NoneType], required=False, default=None, description='The unit of measure for the attribute'),\n",
       " 'required': FieldInfo(annotation=bool, required=False, default=False, description='Whether the attribute is used every time a radiologist describes the finding'),\n",
       " 'oifma_id': FieldInfo(annotation=str, required=True, description='The ID of the attribute in the Open Imaging Data Model Finding Model registry', metadata=[_PydanticGeneralMetadata(pattern='^OIFMA_[A-Z]{3,4}_[0-9]{6}$')])}"
      ]
     },
     "execution_count": 8,
     "metadata": {},
     "output_type": "execute_result"
    }
   ],
   "source": [
    "NumericAttributeIded.__fields__"
   ]
  },
  {
   "cell_type": "code",
   "execution_count": null,
   "id": "389686d0",
   "metadata": {},
   "outputs": [],
   "source": []
  },
  {
   "cell_type": "code",
   "execution_count": 6,
   "id": "9e403040",
   "metadata": {},
   "outputs": [
    {
     "data": {
      "text/plain": [
       "False"
      ]
     },
     "execution_count": 6,
     "metadata": {},
     "output_type": "execute_result"
    }
   ],
   "source": [
    "isinstance(choice_att, ChoiceAttribute)"
   ]
  },
  {
   "cell_type": "code",
   "execution_count": 7,
   "id": "ff825f69",
   "metadata": {},
   "outputs": [
    {
     "data": {
      "text/plain": [
       "findingmodelforge.models.finding_model.ChoiceAttributeIded"
      ]
     },
     "execution_count": 7,
     "metadata": {},
     "output_type": "execute_result"
    }
   ],
   "source": [
    "type(choice_att)"
   ]
  },
  {
   "cell_type": "code",
   "execution_count": 5,
   "id": "4bc42370",
   "metadata": {},
   "outputs": [
    {
     "data": {
      "text/plain": [
       "{'name', 'oifma_id', 'type', 'values'}"
      ]
     },
     "execution_count": 5,
     "metadata": {},
     "output_type": "execute_result"
    }
   ],
   "source": [
    "choice_att.model_fields_set"
   ]
  },
  {
   "cell_type": "code",
   "execution_count": 3,
   "id": "33279e69",
   "metadata": {},
   "outputs": [
    {
     "name": "stdout",
     "output_type": "stream",
     "text": [
      "name='Thyroid nodule' synonyms=['Thyroid mass', 'Thyroid lesion', 'Thyroid adenoma'] description='A thyroid nodule is a palpably distinct mass within the thyroid gland, which may be solid, cystic, or complex, and can represent benign or malignant pathology. Imaging studies, such as ultrasound, are often utilized to evaluate the characteristics and risk of malignancy associated with the nodule.'\n"
     ]
    }
   ],
   "source": [
    "thyroid_nodule_info = await describe_finding_name(\"Thyroid nodule\")\n",
    "print(thyroid_nodule_info)"
   ]
  },
  {
   "cell_type": "code",
   "execution_count": 5,
   "id": "12c19a80",
   "metadata": {},
   "outputs": [],
   "source": [
    "THYROID_NODULE_MARKDOWN = \"\"\"\n",
    "  # Thyroid Nodule\n",
    "\n",
    "  Thyroid nodules are abnormal growths in the thyroid gland that can be benign or malignant.\n",
    "\n",
    "  ## Attributes\n",
    "  - **Size**: The size of the nodule in centimeters.\n",
    "  - **Composition**: The composition of the nodule (solid, cystic, or mixed).\n",
    "  - **Margin**: The margin of the nodule (smooth, irregular, or lobulated).\n",
    "  - **Calcifications**: The presence of calcifications (microcalcifications, macrocalcifications, or none).\n",
    "  - **Vascularity**: The vascularity of the nodule (hypervascular, hypovascular, or avascular).\n",
    "  - **Lymphadenopathy**: The presence of lymphadenopathy (yes or no).\n",
    "  - **Location**: The location of the nodule (right lobe, left lobe, or isthmus).\n",
    "  \"\"\"\n"
   ]
  },
  {
   "cell_type": "code",
   "execution_count": 6,
   "id": "eafe9f19",
   "metadata": {},
   "outputs": [
    {
     "name": "stdout",
     "output_type": "stream",
     "text": [
      "{\n",
      "  \"name\": \"Thyroid Nodule\",\n",
      "  \"description\": \"Thyroid nodules are abnormal growths in the thyroid gland that can be benign or malignant.\",\n",
      "  \"synonyms\": [\n",
      "    \"Thyroid mass\",\n",
      "    \"Thyroid lesion\",\n",
      "    \"Thyroid adenoma\"\n",
      "  ],\n",
      "  \"attributes\": [\n",
      "    {\n",
      "      \"name\": \"nodule size\",\n",
      "      \"description\": \"The size of the nodule in centimeters.\",\n",
      "      \"type\": \"numeric\",\n",
      "      \"minimum\": 0,\n",
      "      \"maximum\": 10,\n",
      "      \"unit\": \"cm\",\n",
      "      \"required\": true\n",
      "    },\n",
      "    {\n",
      "      \"name\": \"composition\",\n",
      "      \"description\": \"The composition of the nodule.\",\n",
      "      \"type\": \"choice\",\n",
      "      \"values\": [\n",
      "        {\n",
      "          \"name\": \"solid\"\n",
      "        },\n",
      "        {\n",
      "          \"name\": \"cystic\"\n",
      "        },\n",
      "        {\n",
      "          \"name\": \"mixed\"\n",
      "        }\n",
      "      ],\n",
      "      \"required\": true\n",
      "    },\n",
      "    {\n",
      "      \"name\": \"margin\",\n",
      "      \"description\": \"The margin of the nodule.\",\n",
      "      \"type\": \"choice\",\n",
      "      \"values\": [\n",
      "        {\n",
      "          \"name\": \"smooth\"\n",
      "        },\n",
      "        {\n",
      "          \"name\": \"irregular\"\n",
      "        },\n",
      "        {\n",
      "          \"name\": \"lobulated\"\n",
      "        }\n",
      "      ],\n",
      "      \"required\": true\n",
      "    },\n",
      "    {\n",
      "      \"name\": \"calcifications\",\n",
      "      \"description\": \"The presence of calcifications in the nodule.\",\n",
      "      \"type\": \"choice\",\n",
      "      \"values\": [\n",
      "        {\n",
      "          \"name\": \"microcalcifications\"\n",
      "        },\n",
      "        {\n",
      "          \"name\": \"macrocalcifications\"\n",
      "        },\n",
      "        {\n",
      "          \"name\": \"none\"\n",
      "        }\n",
      "      ],\n",
      "      \"required\": true\n",
      "    },\n",
      "    {\n",
      "      \"name\": \"vascularity\",\n",
      "      \"description\": \"The vascularity of the nodule.\",\n",
      "      \"type\": \"choice\",\n",
      "      \"values\": [\n",
      "        {\n",
      "          \"name\": \"hypervascular\"\n",
      "        },\n",
      "        {\n",
      "          \"name\": \"hypovascular\"\n",
      "        },\n",
      "        {\n",
      "          \"name\": \"avascular\"\n",
      "        }\n",
      "      ],\n",
      "      \"required\": true\n",
      "    },\n",
      "    {\n",
      "      \"name\": \"lymphadenopathy\",\n",
      "      \"description\": \"The presence of lymphadenopathy associated with the nodule.\",\n",
      "      \"type\": \"choice\",\n",
      "      \"values\": [\n",
      "        {\n",
      "          \"name\": \"yes\"\n",
      "        },\n",
      "        {\n",
      "          \"name\": \"no\"\n",
      "        }\n",
      "      ],\n",
      "      \"required\": true\n",
      "    },\n",
      "    {\n",
      "      \"name\": \"location\",\n",
      "      \"description\": \"The location of the nodule within the thyroid gland.\",\n",
      "      \"type\": \"choice\",\n",
      "      \"values\": [\n",
      "        {\n",
      "          \"name\": \"right lobe\"\n",
      "        },\n",
      "        {\n",
      "          \"name\": \"left lobe\"\n",
      "        },\n",
      "        {\n",
      "          \"name\": \"isthmus\"\n",
      "        }\n",
      "      ],\n",
      "      \"required\": true\n",
      "    }\n",
      "  ]\n",
      "}\n"
     ]
    }
   ],
   "source": [
    "thyroid_nodule_fm = await create_finding_model_from_markdown(thyroid_nodule_info, markdown_text=THYROID_NODULE_MARKDOWN)\n",
    "print(thyroid_nodule_fm.model_dump_json(indent=2, exclude_none=True))"
   ]
  },
  {
   "cell_type": "code",
   "execution_count": 12,
   "id": "b6c5fa2a",
   "metadata": {},
   "outputs": [
    {
     "name": "stdout",
     "output_type": "stream",
     "text": [
      "{\n",
      "  \"oifm_id\": \"OIFM_MGBR_663651\",\n",
      "  \"name\": \"Thyroid Nodule\",\n",
      "  \"description\": \"Thyroid nodules are abnormal growths in the thyroid gland that can be benign or malignant.\",\n",
      "  \"synonyms\": [\n",
      "    \"Thyroid mass\",\n",
      "    \"Thyroid tumor\"\n",
      "  ],\n",
      "  \"attributes\": [\n",
      "    {\n",
      "      \"name\": \"nodule size\",\n",
      "      \"description\": \"The size of the nodule in centimeters.\",\n",
      "      \"type\": \"numeric\",\n",
      "      \"minimum\": 1,\n",
      "      \"maximum\": 10,\n",
      "      \"unit\": \"cm\",\n",
      "      \"required\": true,\n",
      "      \"oifma_id\": \"OIFMA_MGBR_291648\"\n",
      "    },\n",
      "    {\n",
      "      \"oifma_id\": \"OIFMA_MGBR_444307\",\n",
      "      \"name\": \"composition\",\n",
      "      \"description\": \"The composition of the nodule.\",\n",
      "      \"type\": \"choice\",\n",
      "      \"values\": [\n",
      "        {\n",
      "          \"name\": \"solid\"\n",
      "        },\n",
      "        {\n",
      "          \"name\": \"cystic\"\n",
      "        },\n",
      "        {\n",
      "          \"name\": \"mixed\"\n",
      "        }\n",
      "      ],\n",
      "      \"required\": true\n",
      "    },\n",
      "    {\n",
      "      \"oifma_id\": \"OIFMA_MGBR_162540\",\n",
      "      \"name\": \"margin type\",\n",
      "      \"description\": \"The margin of the nodule.\",\n",
      "      \"type\": \"choice\",\n",
      "      \"values\": [\n",
      "        {\n",
      "          \"name\": \"smooth\"\n",
      "        },\n",
      "        {\n",
      "          \"name\": \"irregular\"\n",
      "        },\n",
      "        {\n",
      "          \"name\": \"lobulated\"\n",
      "        }\n",
      "      ],\n",
      "      \"required\": true\n",
      "    },\n",
      "    {\n",
      "      \"oifma_id\": \"OIFMA_MGBR_668731\",\n",
      "      \"name\": \"calcification type\",\n",
      "      \"description\": \"The type of calcifications present in the nodule.\",\n",
      "      \"type\": \"choice\",\n",
      "      \"values\": [\n",
      "        {\n",
      "          \"name\": \"microcalcifications\"\n",
      "        },\n",
      "        {\n",
      "          \"name\": \"macrocalcifications\"\n",
      "        },\n",
      "        {\n",
      "          \"name\": \"none\"\n",
      "        }\n",
      "      ],\n",
      "      \"required\": true\n",
      "    },\n",
      "    {\n",
      "      \"oifma_id\": \"OIFMA_MGBR_420781\",\n",
      "      \"name\": \"vascularity status\",\n",
      "      \"description\": \"The vascularity of the nodule.\",\n",
      "      \"type\": \"choice\",\n",
      "      \"values\": [\n",
      "        {\n",
      "          \"name\": \"hypervascular\"\n",
      "        },\n",
      "        {\n",
      "          \"name\": \"hypovascular\"\n",
      "        },\n",
      "        {\n",
      "          \"name\": \"avascular\"\n",
      "        }\n",
      "      ],\n",
      "      \"required\": true\n",
      "    },\n",
      "    {\n",
      "      \"oifma_id\": \"OIFMA_MGBR_768033\",\n",
      "      \"name\": \"lymphadenopathy status\",\n",
      "      \"description\": \"The status of lymphadenopathy.\",\n",
      "      \"type\": \"choice\",\n",
      "      \"values\": [\n",
      "        {\n",
      "          \"name\": \"yes\"\n",
      "        },\n",
      "        {\n",
      "          \"name\": \"no\"\n",
      "        }\n",
      "      ],\n",
      "      \"required\": true\n",
      "    },\n",
      "    {\n",
      "      \"oifma_id\": \"OIFMA_MGBR_047207\",\n",
      "      \"name\": \"location\",\n",
      "      \"description\": \"The location of the nodule within the thyroid gland.\",\n",
      "      \"type\": \"choice\",\n",
      "      \"values\": [\n",
      "        {\n",
      "          \"name\": \"right lobe\"\n",
      "        },\n",
      "        {\n",
      "          \"name\": \"left lobe\"\n",
      "        },\n",
      "        {\n",
      "          \"name\": \"isthmus\"\n",
      "        }\n",
      "      ],\n",
      "      \"required\": true\n",
      "    }\n",
      "  ]\n",
      "}\n"
     ]
    }
   ],
   "source": [
    "thyroid_nodule_fm_ids = add_ids_to_finding_model(thyroid_nodule_fm, \"MGBR\")\n",
    "print(thyroid_nodule_fm_ids.model_dump_json(indent=2, exclude_none=True))"
   ]
  },
  {
   "cell_type": "code",
   "execution_count": 13,
   "id": "a51f480f",
   "metadata": {},
   "outputs": [
    {
     "data": {
      "text/plain": [
       "FindingModelFull(oifm_id='OIFM_MGBR_663651', name='Thyroid Nodule', description='Thyroid nodules are abnormal growths in the thyroid gland that can be benign or malignant.', synonyms=['Thyroid mass', 'Thyroid tumor'], tags=None, attributes=[NumericAttributeIded(name='nodule size', description='The size of the nodule in centimeters.', type=<AttributeType.NUMERIC: 'numeric'>, minimum=1, maximum=10, unit='cm', required=True, oifma_id='OIFMA_MGBR_291648'), ChoiceAttributeIded(oifma_id='OIFMA_MGBR_444307', name='composition', description='The composition of the nodule.', type=<AttributeType.CHOICE: 'choice'>, values=[ChoiceValue(name='solid', description=None), ChoiceValue(name='cystic', description=None), ChoiceValue(name='mixed', description=None)], required=True, max_selected=None), ChoiceAttributeIded(oifma_id='OIFMA_MGBR_162540', name='margin type', description='The margin of the nodule.', type=<AttributeType.CHOICE: 'choice'>, values=[ChoiceValue(name='smooth', description=None), ChoiceValue(name='irregular', description=None), ChoiceValue(name='lobulated', description=None)], required=True, max_selected=None), ChoiceAttributeIded(oifma_id='OIFMA_MGBR_668731', name='calcification type', description='The type of calcifications present in the nodule.', type=<AttributeType.CHOICE: 'choice'>, values=[ChoiceValue(name='microcalcifications', description=None), ChoiceValue(name='macrocalcifications', description=None), ChoiceValue(name='none', description=None)], required=True, max_selected=None), ChoiceAttributeIded(oifma_id='OIFMA_MGBR_420781', name='vascularity status', description='The vascularity of the nodule.', type=<AttributeType.CHOICE: 'choice'>, values=[ChoiceValue(name='hypervascular', description=None), ChoiceValue(name='hypovascular', description=None), ChoiceValue(name='avascular', description=None)], required=True, max_selected=None), ChoiceAttributeIded(oifma_id='OIFMA_MGBR_768033', name='lymphadenopathy status', description='The status of lymphadenopathy.', type=<AttributeType.CHOICE: 'choice'>, values=[ChoiceValue(name='yes', description=None), ChoiceValue(name='no', description=None)], required=True, max_selected=None), ChoiceAttributeIded(oifma_id='OIFMA_MGBR_047207', name='location', description='The location of the nodule within the thyroid gland.', type=<AttributeType.CHOICE: 'choice'>, values=[ChoiceValue(name='right lobe', description=None), ChoiceValue(name='left lobe', description=None), ChoiceValue(name='isthmus', description=None)], required=True, max_selected=None)])"
      ]
     },
     "execution_count": 13,
     "metadata": {},
     "output_type": "execute_result"
    }
   ],
   "source": [
    "FindingModelFull.model_validate_json(thyroid_nodule_fm_ids.model_dump_json())"
   ]
  },
  {
   "cell_type": "code",
   "execution_count": 8,
   "id": "d630b68f",
   "metadata": {},
   "outputs": [
    {
     "ename": "UndefinedError",
     "evalue": "'attribute_type' is undefined",
     "output_type": "error",
     "traceback": [
      "\u001b[0;31m---------------------------------------------------------------------------\u001b[0m",
      "\u001b[0;31mUndefinedError\u001b[0m                            Traceback (most recent call last)",
      "Cell \u001b[0;32mIn[8], line 1\u001b[0m\n\u001b[0;32m----> 1\u001b[0m \u001b[43mthyroid_nodule_fm\u001b[49m\u001b[38;5;241;43m.\u001b[39;49m\u001b[43mas_markdown\u001b[49m\u001b[43m(\u001b[49m\u001b[43m)\u001b[49m\n",
      "File \u001b[0;32m~/Repos/FindingModelForge/packages/findingmodelforge/src/findingmodelforge/models/finding_model.py:266\u001b[0m, in \u001b[0;36mFindingModelBase.as_markdown\u001b[0;34m(self)\u001b[0m\n\u001b[1;32m    265\u001b[0m \u001b[38;5;28;01mdef\u001b[39;00m\u001b[38;5;250m \u001b[39m\u001b[38;5;21mas_markdown\u001b[39m(\u001b[38;5;28mself\u001b[39m) \u001b[38;5;241m-\u001b[39m\u001b[38;5;241m>\u001b[39m \u001b[38;5;28mstr\u001b[39m:\n\u001b[0;32m--> 266\u001b[0m     \u001b[38;5;28;01mreturn\u001b[39;00m \u001b[43mBASE_MARKDOWN_TEMPLATE\u001b[49m\u001b[38;5;241;43m.\u001b[39;49m\u001b[43mrender\u001b[49m\u001b[43m(\u001b[49m\n\u001b[1;32m    267\u001b[0m \u001b[43m        \u001b[49m\u001b[43mname\u001b[49m\u001b[38;5;241;43m=\u001b[39;49m\u001b[38;5;28;43mself\u001b[39;49m\u001b[38;5;241;43m.\u001b[39;49m\u001b[43mname\u001b[49m\u001b[43m,\u001b[49m\n\u001b[1;32m    268\u001b[0m \u001b[43m        \u001b[49m\u001b[43msynonyms\u001b[49m\u001b[38;5;241;43m=\u001b[39;49m\u001b[38;5;28;43mself\u001b[39;49m\u001b[38;5;241;43m.\u001b[39;49m\u001b[43msynonyms\u001b[49m\u001b[43m,\u001b[49m\n\u001b[1;32m    269\u001b[0m \u001b[43m        \u001b[49m\u001b[43mtags\u001b[49m\u001b[38;5;241;43m=\u001b[39;49m\u001b[38;5;28;43mself\u001b[39;49m\u001b[38;5;241;43m.\u001b[39;49m\u001b[43mtags\u001b[49m\u001b[43m,\u001b[49m\n\u001b[1;32m    270\u001b[0m \u001b[43m        \u001b[49m\u001b[43mdescription\u001b[49m\u001b[38;5;241;43m=\u001b[39;49m\u001b[38;5;28;43mself\u001b[39;49m\u001b[38;5;241;43m.\u001b[39;49m\u001b[43mdescription\u001b[49m\u001b[43m,\u001b[49m\n\u001b[1;32m    271\u001b[0m \u001b[43m        \u001b[49m\u001b[43mattributes\u001b[49m\u001b[38;5;241;43m=\u001b[39;49m\u001b[38;5;28;43mself\u001b[39;49m\u001b[38;5;241;43m.\u001b[39;49m\u001b[43mattributes\u001b[49m\u001b[43m,\u001b[49m\n\u001b[1;32m    272\u001b[0m \u001b[43m    \u001b[49m\u001b[43m)\u001b[49m\n",
      "File \u001b[0;32m~/Repos/FindingModelForge/packages/findingmodelforge/.venv/lib/python3.13/site-packages/jinja2/environment.py:1295\u001b[0m, in \u001b[0;36mTemplate.render\u001b[0;34m(self, *args, **kwargs)\u001b[0m\n\u001b[1;32m   1293\u001b[0m     \u001b[38;5;28;01mreturn\u001b[39;00m \u001b[38;5;28mself\u001b[39m\u001b[38;5;241m.\u001b[39menvironment\u001b[38;5;241m.\u001b[39mconcat(\u001b[38;5;28mself\u001b[39m\u001b[38;5;241m.\u001b[39mroot_render_func(ctx))  \u001b[38;5;66;03m# type: ignore\u001b[39;00m\n\u001b[1;32m   1294\u001b[0m \u001b[38;5;28;01mexcept\u001b[39;00m \u001b[38;5;167;01mException\u001b[39;00m:\n\u001b[0;32m-> 1295\u001b[0m     \u001b[38;5;28;43mself\u001b[39;49m\u001b[38;5;241;43m.\u001b[39;49m\u001b[43menvironment\u001b[49m\u001b[38;5;241;43m.\u001b[39;49m\u001b[43mhandle_exception\u001b[49m\u001b[43m(\u001b[49m\u001b[43m)\u001b[49m\n",
      "File \u001b[0;32m~/Repos/FindingModelForge/packages/findingmodelforge/.venv/lib/python3.13/site-packages/jinja2/environment.py:942\u001b[0m, in \u001b[0;36mEnvironment.handle_exception\u001b[0;34m(self, source)\u001b[0m\n\u001b[1;32m    937\u001b[0m \u001b[38;5;250m\u001b[39m\u001b[38;5;124;03m\"\"\"Exception handling helper.  This is used internally to either raise\u001b[39;00m\n\u001b[1;32m    938\u001b[0m \u001b[38;5;124;03mrewritten exceptions or return a rendered traceback for the template.\u001b[39;00m\n\u001b[1;32m    939\u001b[0m \u001b[38;5;124;03m\"\"\"\u001b[39;00m\n\u001b[1;32m    940\u001b[0m \u001b[38;5;28;01mfrom\u001b[39;00m\u001b[38;5;250m \u001b[39m\u001b[38;5;21;01m.\u001b[39;00m\u001b[38;5;21;01mdebug\u001b[39;00m\u001b[38;5;250m \u001b[39m\u001b[38;5;28;01mimport\u001b[39;00m rewrite_traceback_stack\n\u001b[0;32m--> 942\u001b[0m \u001b[38;5;28;01mraise\u001b[39;00m rewrite_traceback_stack(source\u001b[38;5;241m=\u001b[39msource)\n",
      "File \u001b[0;32m<template>:23\u001b[0m, in \u001b[0;36mtop-level template code\u001b[0;34m()\u001b[0m\n",
      "File \u001b[0;32m~/Repos/FindingModelForge/packages/findingmodelforge/.venv/lib/python3.13/site-packages/jinja2/environment.py:490\u001b[0m, in \u001b[0;36mEnvironment.getattr\u001b[0;34m(self, obj, attribute)\u001b[0m\n\u001b[1;32m    486\u001b[0m \u001b[38;5;250m\u001b[39m\u001b[38;5;124;03m\"\"\"Get an item or attribute of an object but prefer the attribute.\u001b[39;00m\n\u001b[1;32m    487\u001b[0m \u001b[38;5;124;03mUnlike :meth:`getitem` the attribute *must* be a string.\u001b[39;00m\n\u001b[1;32m    488\u001b[0m \u001b[38;5;124;03m\"\"\"\u001b[39;00m\n\u001b[1;32m    489\u001b[0m \u001b[38;5;28;01mtry\u001b[39;00m:\n\u001b[0;32m--> 490\u001b[0m     \u001b[38;5;28;01mreturn\u001b[39;00m \u001b[38;5;28;43mgetattr\u001b[39;49m\u001b[43m(\u001b[49m\u001b[43mobj\u001b[49m\u001b[43m,\u001b[49m\u001b[43m \u001b[49m\u001b[43mattribute\u001b[49m\u001b[43m)\u001b[49m\n\u001b[1;32m    491\u001b[0m \u001b[38;5;28;01mexcept\u001b[39;00m \u001b[38;5;167;01mAttributeError\u001b[39;00m:\n\u001b[1;32m    492\u001b[0m     \u001b[38;5;28;01mpass\u001b[39;00m\n",
      "\u001b[0;31mUndefinedError\u001b[0m: 'attribute_type' is undefined"
     ]
    }
   ],
   "source": [
    "thyroid_nodule_fm.as_markdown()"
   ]
  },
  {
   "cell_type": "code",
   "execution_count": null,
   "id": "5634b395",
   "metadata": {},
   "outputs": [],
   "source": []
  }
 ],
 "metadata": {
  "kernelspec": {
   "display_name": ".venv",
   "language": "python",
   "name": "python3"
  },
  "language_info": {
   "codemirror_mode": {
    "name": "ipython",
    "version": 3
   },
   "file_extension": ".py",
   "mimetype": "text/x-python",
   "name": "python",
   "nbconvert_exporter": "python",
   "pygments_lexer": "ipython3",
   "version": "3.13.2"
  }
 },
 "nbformat": 4,
 "nbformat_minor": 5
}
