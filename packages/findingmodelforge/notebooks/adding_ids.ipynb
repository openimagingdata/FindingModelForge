{
 "cells": [
  {
   "cell_type": "code",
   "execution_count": 1,
   "id": "dd8c3ba9",
   "metadata": {},
   "outputs": [],
   "source": [
    "from findingmodelforge.config import settings\n",
    "from findingmodelforge.models.finding_model import (\n",
    "    FindingModelBase,\n",
    "    Attribute,\n",
    "    FindingModelIded,\n",
    "    ChoiceAttributeIded,\n",
    "    ChoiceValue,\n",
    "    ChoiceAttribute,\n",
    ")\n",
    "from findingmodelforge.finding_model_tools import add_ids_to_finding_model, create_finding_model_from_markdown\n",
    "from findingmodelforge.finding_info_tools import describe_finding_name"
   ]
  },
  {
   "cell_type": "code",
   "execution_count": 2,
   "id": "971ba4c5",
   "metadata": {},
   "outputs": [
    {
     "data": {
      "text/plain": [
       "True"
      ]
     },
     "execution_count": 2,
     "metadata": {},
     "output_type": "execute_result"
    }
   ],
   "source": [
    "settings.check_ready_for_openai()"
   ]
  },
  {
   "cell_type": "code",
   "execution_count": 16,
   "id": "e44ab038",
   "metadata": {},
   "outputs": [],
   "source": [
    "choice_att = ChoiceAttributeIded(\n",
    "    oifma_id=\"OIFMA_MGBR_00000000\",\n",
    "    name=\"test_choice\",\n",
    "    type=\"choice\",\n",
    "    values=[\n",
    "        ChoiceValue(name=\"test value 1\"),\n",
    "        ChoiceValue(name=\"test value 2\"),\n",
    "    ],\n",
    ")"
   ]
  },
  {
   "cell_type": "code",
   "execution_count": 9,
   "id": "7a580f8d",
   "metadata": {},
   "outputs": [
    {
     "name": "stdout",
     "output_type": "stream",
     "text": [
      "{\n",
      "  \"name\": \"test_choice\",\n",
      "  \"description\": null,\n",
      "  \"type\": \"choice\",\n",
      "  \"values\": [\n",
      "    {\n",
      "      \"name\": \"test value 1\",\n",
      "      \"description\": null\n",
      "    },\n",
      "    {\n",
      "      \"name\": \"test value 2\",\n",
      "      \"description\": null\n",
      "    }\n",
      "  ],\n",
      "  \"required\": false,\n",
      "  \"max_selected\": 1,\n",
      "  \"oifma_id\": \"OIFMA_MGBR_00000000\"\n",
      "}\n"
     ]
    }
   ],
   "source": [
    "print(choice_att.model_dump_json(indent=2))"
   ]
  },
  {
   "cell_type": "code",
   "execution_count": 3,
   "id": "9e403040",
   "metadata": {},
   "outputs": [
    {
     "data": {
      "text/plain": [
       "True"
      ]
     },
     "execution_count": 3,
     "metadata": {},
     "output_type": "execute_result"
    }
   ],
   "source": [
    "isinstance(choice_att, ChoiceAttribute)"
   ]
  },
  {
   "cell_type": "code",
   "execution_count": 4,
   "id": "ff825f69",
   "metadata": {},
   "outputs": [
    {
     "data": {
      "text/plain": [
       "findingmodelforge.models.finding_model.ChoiceAttributeIded"
      ]
     },
     "execution_count": 4,
     "metadata": {},
     "output_type": "execute_result"
    }
   ],
   "source": [
    "type(choice_att)"
   ]
  },
  {
   "cell_type": "code",
   "execution_count": 5,
   "id": "4bc42370",
   "metadata": {},
   "outputs": [
    {
     "data": {
      "text/plain": [
       "{'name', 'oifma_id', 'type', 'values'}"
      ]
     },
     "execution_count": 5,
     "metadata": {},
     "output_type": "execute_result"
    }
   ],
   "source": [
    "choice_att.model_fields_set"
   ]
  },
  {
   "cell_type": "code",
   "execution_count": 3,
   "id": "33279e69",
   "metadata": {},
   "outputs": [
    {
     "name": "stdout",
     "output_type": "stream",
     "text": [
      "name='Thyroid nodule' synonyms=['Thyroid mass', 'Thyroid lesion'] description='A thyroid nodule is a discrete lesion within the thyroid gland, typically detected on imaging studies, which may represent a benign or malignant process; evaluation often involves ultrasound and, when indicated, fine-needle aspiration biopsy.'\n"
     ]
    }
   ],
   "source": [
    "thyroid_nodule_info = await describe_finding_name(\"Thyroid nodule\")\n",
    "print(thyroid_nodule_info)"
   ]
  },
  {
   "cell_type": "code",
   "execution_count": 4,
   "id": "12c19a80",
   "metadata": {},
   "outputs": [],
   "source": [
    "THYROID_NODULE_MARKDOWN = \"\"\"\n",
    "  # Thyroid Nodule\n",
    "\n",
    "  Thyroid nodules are abnormal growths in the thyroid gland that can be benign or malignant.\n",
    "\n",
    "  ## Attributes\n",
    "  - **Size**: The size of the nodule in centimeters.\n",
    "  - **Composition**: The composition of the nodule (solid, cystic, or mixed).\n",
    "  - **Margin**: The margin of the nodule (smooth, irregular, or lobulated).\n",
    "  - **Calcifications**: The presence of calcifications (microcalcifications, macrocalcifications, or none).\n",
    "  - **Vascularity**: The vascularity of the nodule (hypervascular, hypovascular, or avascular).\n",
    "  - **Lymphadenopathy**: The presence of lymphadenopathy (yes or no).\n",
    "  - **Location**: The location of the nodule (right lobe, left lobe, or isthmus).\n",
    "  \"\"\"\n"
   ]
  },
  {
   "cell_type": "code",
   "execution_count": 5,
   "id": "eafe9f19",
   "metadata": {},
   "outputs": [
    {
     "name": "stdout",
     "output_type": "stream",
     "text": [
      "{\n",
      "  \"name\": \"Thyroid nodule\",\n",
      "  \"description\": \"Thyroid nodules are abnormal growths in the thyroid gland that can be benign or malignant.\",\n",
      "  \"synonyms\": [\n",
      "    \"Thyroid mass\",\n",
      "    \"Thyroid lesion\"\n",
      "  ],\n",
      "  \"attributes\": [\n",
      "    {\n",
      "      \"name\": \"size\",\n",
      "      \"description\": \"The size of the nodule in centimeters.\",\n",
      "      \"type\": \"numeric\",\n",
      "      \"minimum\": 0,\n",
      "      \"maximum\": 10,\n",
      "      \"unit\": \"cm\",\n",
      "      \"required\": true\n",
      "    },\n",
      "    {\n",
      "      \"name\": \"composition\",\n",
      "      \"description\": \"The composition of the nodule.\",\n",
      "      \"type\": \"choice\",\n",
      "      \"values\": [\n",
      "        {\n",
      "          \"name\": \"solid\"\n",
      "        },\n",
      "        {\n",
      "          \"name\": \"cystic\"\n",
      "        },\n",
      "        {\n",
      "          \"name\": \"mixed\"\n",
      "        }\n",
      "      ],\n",
      "      \"required\": true,\n",
      "      \"max_selected\": 1\n",
      "    },\n",
      "    {\n",
      "      \"name\": \"margin\",\n",
      "      \"description\": \"The margin of the nodule.\",\n",
      "      \"type\": \"choice\",\n",
      "      \"values\": [\n",
      "        {\n",
      "          \"name\": \"smooth\"\n",
      "        },\n",
      "        {\n",
      "          \"name\": \"irregular\"\n",
      "        },\n",
      "        {\n",
      "          \"name\": \"lobulated\"\n",
      "        }\n",
      "      ],\n",
      "      \"required\": true,\n",
      "      \"max_selected\": 1\n",
      "    },\n",
      "    {\n",
      "      \"name\": \"calcifications\",\n",
      "      \"description\": \"The presence of calcifications.\",\n",
      "      \"type\": \"choice\",\n",
      "      \"values\": [\n",
      "        {\n",
      "          \"name\": \"microcalcifications\"\n",
      "        },\n",
      "        {\n",
      "          \"name\": \"macrocalcifications\"\n",
      "        },\n",
      "        {\n",
      "          \"name\": \"none\"\n",
      "        }\n",
      "      ],\n",
      "      \"required\": true,\n",
      "      \"max_selected\": 1\n",
      "    },\n",
      "    {\n",
      "      \"name\": \"vascularity\",\n",
      "      \"description\": \"The vascularity of the nodule.\",\n",
      "      \"type\": \"choice\",\n",
      "      \"values\": [\n",
      "        {\n",
      "          \"name\": \"hypervascular\"\n",
      "        },\n",
      "        {\n",
      "          \"name\": \"hypovascular\"\n",
      "        },\n",
      "        {\n",
      "          \"name\": \"avascular\"\n",
      "        }\n",
      "      ],\n",
      "      \"required\": true,\n",
      "      \"max_selected\": 1\n",
      "    },\n",
      "    {\n",
      "      \"name\": \"lymphadenopathy\",\n",
      "      \"description\": \"The presence of lymphadenopathy.\",\n",
      "      \"type\": \"choice\",\n",
      "      \"values\": [\n",
      "        {\n",
      "          \"name\": \"yes\"\n",
      "        },\n",
      "        {\n",
      "          \"name\": \"no\"\n",
      "        }\n",
      "      ],\n",
      "      \"required\": true,\n",
      "      \"max_selected\": 1\n",
      "    },\n",
      "    {\n",
      "      \"name\": \"location\",\n",
      "      \"description\": \"The location of the nodule.\",\n",
      "      \"type\": \"choice\",\n",
      "      \"values\": [\n",
      "        {\n",
      "          \"name\": \"right lobe\"\n",
      "        },\n",
      "        {\n",
      "          \"name\": \"left lobe\"\n",
      "        },\n",
      "        {\n",
      "          \"name\": \"isthmus\"\n",
      "        }\n",
      "      ],\n",
      "      \"required\": true,\n",
      "      \"max_selected\": 1\n",
      "    }\n",
      "  ]\n",
      "}\n"
     ]
    }
   ],
   "source": [
    "thyroid_nodule_fm = await create_finding_model_from_markdown(thyroid_nodule_info, markdown_text=THYROID_NODULE_MARKDOWN)\n",
    "print(thyroid_nodule_fm.model_dump_json(indent=2, exclude_none=True))"
   ]
  },
  {
   "cell_type": "code",
   "execution_count": 6,
   "id": "b6c5fa2a",
   "metadata": {},
   "outputs": [
    {
     "name": "stdout",
     "output_type": "stream",
     "text": [
      "{\n",
      "  \"name\": \"Thyroid nodule\",\n",
      "  \"description\": \"Thyroid nodules are abnormal growths in the thyroid gland that can be benign or malignant.\",\n",
      "  \"synonyms\": [\n",
      "    \"Thyroid mass\",\n",
      "    \"Thyroid lesion\"\n",
      "  ],\n",
      "  \"attributes\": [\n",
      "    {\n",
      "      \"name\": \"size\",\n",
      "      \"description\": \"The size of the nodule in centimeters.\",\n",
      "      \"type\": \"numeric\",\n",
      "      \"minimum\": 0,\n",
      "      \"maximum\": 10,\n",
      "      \"unit\": \"cm\",\n",
      "      \"required\": true,\n",
      "      \"oifma_id\": \"OIFMA_MGBR_825697\"\n",
      "    },\n",
      "    {\n",
      "      \"name\": \"composition\",\n",
      "      \"description\": \"The composition of the nodule.\",\n",
      "      \"type\": \"choice\",\n",
      "      \"values\": [\n",
      "        {\n",
      "          \"name\": \"solid\"\n",
      "        },\n",
      "        {\n",
      "          \"name\": \"cystic\"\n",
      "        },\n",
      "        {\n",
      "          \"name\": \"mixed\"\n",
      "        }\n",
      "      ],\n",
      "      \"required\": true,\n",
      "      \"max_selected\": 1,\n",
      "      \"oifma_id\": \"OIFMA_MGBR_450236\"\n",
      "    },\n",
      "    {\n",
      "      \"name\": \"margin\",\n",
      "      \"description\": \"The margin of the nodule.\",\n",
      "      \"type\": \"choice\",\n",
      "      \"values\": [\n",
      "        {\n",
      "          \"name\": \"smooth\"\n",
      "        },\n",
      "        {\n",
      "          \"name\": \"irregular\"\n",
      "        },\n",
      "        {\n",
      "          \"name\": \"lobulated\"\n",
      "        }\n",
      "      ],\n",
      "      \"required\": true,\n",
      "      \"max_selected\": 1,\n",
      "      \"oifma_id\": \"OIFMA_MGBR_144389\"\n",
      "    },\n",
      "    {\n",
      "      \"name\": \"calcifications\",\n",
      "      \"description\": \"The presence of calcifications.\",\n",
      "      \"type\": \"choice\",\n",
      "      \"values\": [\n",
      "        {\n",
      "          \"name\": \"microcalcifications\"\n",
      "        },\n",
      "        {\n",
      "          \"name\": \"macrocalcifications\"\n",
      "        },\n",
      "        {\n",
      "          \"name\": \"none\"\n",
      "        }\n",
      "      ],\n",
      "      \"required\": true,\n",
      "      \"max_selected\": 1,\n",
      "      \"oifma_id\": \"OIFMA_MGBR_181434\"\n",
      "    },\n",
      "    {\n",
      "      \"name\": \"vascularity\",\n",
      "      \"description\": \"The vascularity of the nodule.\",\n",
      "      \"type\": \"choice\",\n",
      "      \"values\": [\n",
      "        {\n",
      "          \"name\": \"hypervascular\"\n",
      "        },\n",
      "        {\n",
      "          \"name\": \"hypovascular\"\n",
      "        },\n",
      "        {\n",
      "          \"name\": \"avascular\"\n",
      "        }\n",
      "      ],\n",
      "      \"required\": true,\n",
      "      \"max_selected\": 1,\n",
      "      \"oifma_id\": \"OIFMA_MGBR_900713\"\n",
      "    },\n",
      "    {\n",
      "      \"name\": \"lymphadenopathy\",\n",
      "      \"description\": \"The presence of lymphadenopathy.\",\n",
      "      \"type\": \"choice\",\n",
      "      \"values\": [\n",
      "        {\n",
      "          \"name\": \"yes\"\n",
      "        },\n",
      "        {\n",
      "          \"name\": \"no\"\n",
      "        }\n",
      "      ],\n",
      "      \"required\": true,\n",
      "      \"max_selected\": 1,\n",
      "      \"oifma_id\": \"OIFMA_MGBR_736221\"\n",
      "    },\n",
      "    {\n",
      "      \"name\": \"location\",\n",
      "      \"description\": \"The location of the nodule.\",\n",
      "      \"type\": \"choice\",\n",
      "      \"values\": [\n",
      "        {\n",
      "          \"name\": \"right lobe\"\n",
      "        },\n",
      "        {\n",
      "          \"name\": \"left lobe\"\n",
      "        },\n",
      "        {\n",
      "          \"name\": \"isthmus\"\n",
      "        }\n",
      "      ],\n",
      "      \"required\": true,\n",
      "      \"max_selected\": 1,\n",
      "      \"oifma_id\": \"OIFMA_MGBR_671195\"\n",
      "    }\n",
      "  ],\n",
      "  \"oifm_id\": \"OIFM_MGBR_101099\"\n",
      "}\n"
     ]
    }
   ],
   "source": [
    "thyroid_nodule_fm_ids = add_ids_to_finding_model(thyroid_nodule_fm, \"MGBR\")\n",
    "print(thyroid_nodule_fm_ids.model_dump_json(indent=2, exclude_none=True))"
   ]
  },
  {
   "cell_type": "code",
   "execution_count": 13,
   "id": "a51f480f",
   "metadata": {},
   "outputs": [
    {
     "data": {
      "text/plain": [
       "FindingModelIded(name='Thyroid nodule', description='Thyroid nodules are abnormal growths in the thyroid gland that can be benign or malignant.', synonyms=['Thyroid adenoma', 'Cystic thyroid nodule', 'Thyroid mass'], tags=None, attributes=[NumericAttributeIded(name='size', description='The size of the nodule', type=<AttributeType.NUMERIC: 'numeric'>, minimum=1, maximum=10, unit='cm', required=True, oifma_id='OIFMA_MGBR_93931417'), ChoiceAttributeIded(name='composition', description='The composition of the nodule', type=<AttributeType.CHOICE: 'choice'>, values=[ChoiceValue(name='solid', description=None), ChoiceValue(name='cystic', description=None), ChoiceValue(name='mixed', description=None)], required=True, max_selected=1, oifma_id='OIFMA_MGBR_80009357'), ChoiceAttributeIded(name='margin', description='The margin of the nodule', type=<AttributeType.CHOICE: 'choice'>, values=[ChoiceValue(name='smooth', description=None), ChoiceValue(name='irregular', description=None), ChoiceValue(name='lobulated', description=None)], required=True, max_selected=1, oifma_id='OIFMA_MGBR_89254652'), ChoiceAttributeIded(name='calcifications', description='The presence of calcifications', type=<AttributeType.CHOICE: 'choice'>, values=[ChoiceValue(name='microcalcifications', description=None), ChoiceValue(name='macrocalcifications', description=None), ChoiceValue(name='none', description=None)], required=True, max_selected=1, oifma_id='OIFMA_MGBR_23470153'), ChoiceAttributeIded(name='vascularity', description='The vascularity of the nodule', type=<AttributeType.CHOICE: 'choice'>, values=[ChoiceValue(name='hypervascular', description=None), ChoiceValue(name='hypovascular', description=None), ChoiceValue(name='avascular', description=None)], required=True, max_selected=1, oifma_id='OIFMA_MGBR_48451767'), ChoiceAttributeIded(name='lymphadenopathy', description='The presence of lymphadenopathy', type=<AttributeType.CHOICE: 'choice'>, values=[ChoiceValue(name='yes', description=None), ChoiceValue(name='no', description=None)], required=True, max_selected=1, oifma_id='OIFMA_MGBR_78182564'), ChoiceAttributeIded(name='location', description='The location of the nodule', type=<AttributeType.CHOICE: 'choice'>, values=[ChoiceValue(name='right lobe', description=None), ChoiceValue(name='left lobe', description=None), ChoiceValue(name='isthmus', description=None)], required=True, max_selected=1, oifma_id='OIFMA_MGBR_15004882')], oifm_id='OIFM_MGBR_74771200')"
      ]
     },
     "execution_count": 13,
     "metadata": {},
     "output_type": "execute_result"
    }
   ],
   "source": [
    "FindingModelIded.model_validate_json(thyroid_nodule_fm_ids.model_dump_json())"
   ]
  },
  {
   "cell_type": "code",
   "execution_count": null,
   "id": "d630b68f",
   "metadata": {},
   "outputs": [],
   "source": []
  }
 ],
 "metadata": {
  "kernelspec": {
   "display_name": ".venv",
   "language": "python",
   "name": "python3"
  },
  "language_info": {
   "codemirror_mode": {
    "name": "ipython",
    "version": 3
   },
   "file_extension": ".py",
   "mimetype": "text/x-python",
   "name": "python",
   "nbconvert_exporter": "python",
   "pygments_lexer": "ipython3",
   "version": "3.13.2"
  }
 },
 "nbformat": 4,
 "nbformat_minor": 5
}
